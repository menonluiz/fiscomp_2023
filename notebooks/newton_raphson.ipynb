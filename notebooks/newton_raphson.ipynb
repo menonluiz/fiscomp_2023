{
 "cells": [
  {
   "cell_type": "code",
   "execution_count": 1,
   "id": "c193b43d-7eef-4b2c-9998-d53852d0d31f",
   "metadata": {},
   "outputs": [],
   "source": [
    "import numpy as np \n",
    "import matplotlib.pyplot as plt "
   ]
  },
  {
   "cell_type": "markdown",
   "id": "68800db2-6606-4669-975c-f10b55964f72",
   "metadata": {},
   "source": [
    "$f(x) = x^2 - 3x +1$\n",
    "\n",
    "$ \\frac{df(x)}{dx} = 2x -3$"
   ]
  },
  {
   "cell_type": "code",
   "execution_count": 5,
   "id": "26e7ed77-0941-4535-b2f2-a9e0fec617f8",
   "metadata": {},
   "outputs": [],
   "source": [
    "funcao   = lambda x : x**3 - x \n",
    "\n",
    "d_funcao = lambda x : 2*x-3"
   ]
  },
  {
   "cell_type": "code",
   "execution_count": 11,
   "id": "3345bdac-9b8d-4ecb-8f57-5772c646aaa3",
   "metadata": {},
   "outputs": [
    {
     "name": "stdout",
     "output_type": "stream",
     "text": [
      "5.823529411764706\n",
      "3.8063225290116045\n",
      "2.924155452065445\n",
      "2.6509343122948232\n",
      "2.6185042290050498\n",
      "2.6180340875988275\n",
      "2.618033988749899\n",
      "2.618033988749895\n",
      "2.618033988749895\n",
      "2.618033988749895\n"
     ]
    }
   ],
   "source": [
    "iteradas = 10\n",
    "x = 10\n",
    "for i in range(iteradas):\n",
    "    x = x  - funcao(x)/d_funcao(x)\n",
    "    print(x)"
   ]
  },
  {
   "cell_type": "code",
   "execution_count": 12,
   "id": "2551053c-a98e-4eb4-92ae-03c603bbe7fd",
   "metadata": {},
   "outputs": [
    {
     "name": "stdout",
     "output_type": "stream",
     "text": [
      "0.0\n"
     ]
    }
   ],
   "source": [
    "#teste\n",
    "print(funcao(x))"
   ]
  },
  {
   "cell_type": "code",
   "execution_count": null,
   "id": "5c9cc0e3-2a2a-4809-9b3c-f746a9c989fc",
   "metadata": {},
   "outputs": [],
   "source": []
  }
 ],
 "metadata": {
  "kernelspec": {
   "display_name": "Python 3 (ipykernel)",
   "language": "python",
   "name": "python3"
  },
  "language_info": {
   "codemirror_mode": {
    "name": "ipython",
    "version": 3
   },
   "file_extension": ".py",
   "mimetype": "text/x-python",
   "name": "python",
   "nbconvert_exporter": "python",
   "pygments_lexer": "ipython3",
   "version": "3.11.4"
  }
 },
 "nbformat": 4,
 "nbformat_minor": 5
}
