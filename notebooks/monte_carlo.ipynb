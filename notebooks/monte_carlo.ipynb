{
 "cells": [
  {
   "cell_type": "code",
   "execution_count": 59,
   "id": "4c2ee68c-3273-4a4f-bf0d-20e0f47b4c9d",
   "metadata": {},
   "outputs": [],
   "source": [
    "import random \n",
    "import numpy as np\n",
    "import matplotlib.pyplot as plt"
   ]
  },
  {
   "cell_type": "markdown",
   "id": "134394c4-2563-4734-9e99-2ea1cadfe8a8",
   "metadata": {},
   "source": [
    "numpy.pi"
   ]
  },
  {
   "cell_type": "code",
   "execution_count": 50,
   "id": "0da0a812-4687-488a-9cdb-f521228e0e4c",
   "metadata": {},
   "outputs": [],
   "source": [
    "num=int(1e5)\n",
    "r1 = np.random.uniform(0,2,num)\n",
    "r2 = np.random.uniform(0,2,num)"
   ]
  },
  {
   "cell_type": "code",
   "execution_count": 51,
   "id": "fb776fd6-ba49-4c67-9f33-b888bc241a96",
   "metadata": {},
   "outputs": [],
   "source": [
    "indices = (r1-1)**2+ (r2-1)**2 <= 1"
   ]
  },
  {
   "cell_type": "code",
   "execution_count": 52,
   "id": "4b603b43-ca3a-42a6-b5eb-c1301f02c607",
   "metadata": {},
   "outputs": [],
   "source": [
    "xi = sum(indices)"
   ]
  },
  {
   "cell_type": "code",
   "execution_count": 53,
   "id": "137f94e4-2e15-4732-98c4-a86b95986acc",
   "metadata": {},
   "outputs": [
    {
     "data": {
      "text/plain": [
       "3.14792"
      ]
     },
     "execution_count": 53,
     "metadata": {},
     "output_type": "execute_result"
    }
   ],
   "source": [
    "(xi/num)*4"
   ]
  },
  {
   "cell_type": "code",
   "execution_count": 56,
   "id": "65610387-31eb-422f-947b-865aae907b80",
   "metadata": {},
   "outputs": [
    {
     "data": {
      "text/plain": [
       "3.14516"
      ]
     },
     "execution_count": 56,
     "metadata": {},
     "output_type": "execute_result"
    }
   ],
   "source": [
    "contador=0\n",
    "for i in range(num):\n",
    "    r1 = 2*np.random.random()\n",
    "    r2 = 2*np.random.random()\n",
    "\n",
    "    if (r1-1)**2+ (r2-1)**2 <= 1:\n",
    "       contador=contador + 1 \n",
    "(contador/num)*4       \n",
    "    \n",
    "    "
   ]
  },
  {
   "cell_type": "markdown",
   "id": "940908d7-8029-4b55-98a2-ca1d50779386",
   "metadata": {},
   "source": [
    "r3 = r1+r2"
   ]
  },
  {
   "cell_type": "code",
   "execution_count": 60,
   "id": "db778923-3384-4ba5-81ca-bec3082ba466",
   "metadata": {},
   "outputs": [
    {
     "data": {
      "text/plain": [
       "(array([0., 0., 0., 0., 0., 0., 0., 0., 0., 0., 0., 0., 0., 0., 0., 0., 0.,\n",
       "        0., 0., 0., 0., 0., 0., 0., 0., 0., 0., 0., 0., 0., 0., 0., 0., 0.,\n",
       "        0., 0., 0., 0., 0., 0., 0., 0., 0., 0., 0., 0., 0., 0., 0., 0., 1.,\n",
       "        0., 0., 0., 0., 0., 0., 0., 0., 0., 0., 0., 0., 0., 0., 0., 0., 0.,\n",
       "        0., 0., 0., 0., 0., 0., 0., 0., 0., 0., 0., 0., 0., 0., 0., 0., 0.,\n",
       "        0., 0., 0., 0., 0., 0., 0., 0., 0., 0., 0., 0., 0., 0., 0.]),\n",
       " array([2.77269656, 2.78269656, 2.79269656, 2.80269656, 2.81269656,\n",
       "        2.82269656, 2.83269656, 2.84269656, 2.85269656, 2.86269656,\n",
       "        2.87269656, 2.88269656, 2.89269656, 2.90269656, 2.91269656,\n",
       "        2.92269656, 2.93269656, 2.94269656, 2.95269656, 2.96269656,\n",
       "        2.97269656, 2.98269656, 2.99269656, 3.00269656, 3.01269656,\n",
       "        3.02269656, 3.03269656, 3.04269656, 3.05269656, 3.06269656,\n",
       "        3.07269656, 3.08269656, 3.09269656, 3.10269656, 3.11269656,\n",
       "        3.12269656, 3.13269656, 3.14269656, 3.15269656, 3.16269656,\n",
       "        3.17269656, 3.18269656, 3.19269656, 3.20269656, 3.21269656,\n",
       "        3.22269656, 3.23269656, 3.24269656, 3.25269656, 3.26269656,\n",
       "        3.27269656, 3.28269656, 3.29269656, 3.30269656, 3.31269656,\n",
       "        3.32269656, 3.33269656, 3.34269656, 3.35269656, 3.36269656,\n",
       "        3.37269656, 3.38269656, 3.39269656, 3.40269656, 3.41269656,\n",
       "        3.42269656, 3.43269656, 3.44269656, 3.45269656, 3.46269656,\n",
       "        3.47269656, 3.48269656, 3.49269656, 3.50269656, 3.51269656,\n",
       "        3.52269656, 3.53269656, 3.54269656, 3.55269656, 3.56269656,\n",
       "        3.57269656, 3.58269656, 3.59269656, 3.60269656, 3.61269656,\n",
       "        3.62269656, 3.63269656, 3.64269656, 3.65269656, 3.66269656,\n",
       "        3.67269656, 3.68269656, 3.69269656, 3.70269656, 3.71269656,\n",
       "        3.72269656, 3.73269656, 3.74269656, 3.75269656, 3.76269656,\n",
       "        3.77269656]),\n",
       " <BarContainer object of 100 artists>)"
      ]
     },
     "execution_count": 60,
     "metadata": {},
     "output_type": "execute_result"
    },
    {
     "data": {
      "image/png": "[encoded data removed]",
      "text/plain": [
       "<Figure size 640x480 with 1 Axes>"
      ]
     },
     "metadata": {},
     "output_type": "display_data"
    }
   ],
   "source": [
    "r3=r1+r2\n",
    "\n",
    "plt.hist(r3,bins=100)"
   ]
  },
  {
   "cell_type": "code",
   "execution_count": 61,
   "id": "0a357379-42e4-4728-a696-2b020e9629d1",
   "metadata": {},
   "outputs": [
    {
     "data": {
      "text/plain": [
       "3.272696564643315"
      ]
     },
     "execution_count": 61,
     "metadata": {},
     "output_type": "execute_result"
    }
   ],
   "source": [
    "r3"
   ]
  },
  {
   "cell_type": "code",
   "execution_count": null,
   "id": "7d9c24e9-5bf3-4163-9f86-e2830351aab4",
   "metadata": {},
   "outputs": [],
   "source": []
  }
 ],
 "metadata": {
  "kernelspec": {
   "display_name": "Python 3 (ipykernel)",
   "language": "python",
   "name": "python3"
  },
  "language_info": {
   "codemirror_mode": {
    "name": "ipython",
    "version": 3
   },
   "file_extension": ".py",
   "mimetype": "text/x-python",
   "name": "python",
   "nbconvert_exporter": "python",
   "pygments_lexer": "ipython3",
   "version": "3.11.4"
  }
 },
 "nbformat": 4,
 "nbformat_minor": 5
}
