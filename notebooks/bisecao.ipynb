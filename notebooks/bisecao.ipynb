{
 "cells": [
  {
   "cell_type": "code",
   "execution_count": 1,
   "id": "218520b6-1e3f-49e7-9799-9d5462b3ee46",
   "metadata": {},
   "outputs": [],
   "source": [
    "import numpy as np \n",
    "import matplotlib.pyplot as plt "
   ]
  },
  {
   "cell_type": "code",
   "execution_count": 2,
   "id": "24737bfc-81c0-4689-bc40-ce4d09d68303",
   "metadata": {},
   "outputs": [],
   "source": [
    "funcao   = lambda x : x**3 - x  - 2"
   ]
  },
  {
   "cell_type": "code",
   "execution_count": 3,
   "id": "4ebd50b9-c941-4bde-8c80-8dc1fdd2e527",
   "metadata": {},
   "outputs": [
    {
     "name": "stdout",
     "output_type": "stream",
     "text": [
      "a raiz é 1.521484375\n"
     ]
    }
   ],
   "source": [
    "iteradas = 100\n",
    "a=1\n",
    "b=3\n",
    "for i in range (iteradas):\n",
    "    c= (a+b)/2\n",
    "    if np.abs(funcao(c))< 0.001:\n",
    "        print(\"a raiz é\",c)\n",
    "        break\n",
    "    if np.sign(funcao(c)) == np.sign(funcao(a)):\n",
    "        a=c\n",
    "    else: b=c"
   ]
  },
  {
   "cell_type": "code",
   "execution_count": null,
   "id": "41d79fc6-12ab-4a0c-a554-c89eddcdf9c0",
   "metadata": {},
   "outputs": [],
   "source": []
  }
 ],
 "metadata": {
  "kernelspec": {
   "display_name": "Python 3 (ipykernel)",
   "language": "python",
   "name": "python3"
  },
  "language_info": {
   "codemirror_mode": {
    "name": "ipython",
    "version": 3
   },
   "file_extension": ".py",
   "mimetype": "text/x-python",
   "name": "python",
   "nbconvert_exporter": "python",
   "pygments_lexer": "ipython3",
   "version": "3.11.4"
  }
 },
 "nbformat": 4,
 "nbformat_minor": 5
}
